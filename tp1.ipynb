{
  "nbformat": 4,
  "nbformat_minor": 0,
  "metadata": {
    "colab": {
      "provenance": [],
      "authorship_tag": "ABX9TyOGhcLASDHIGfTsNVz6bPzq",
      "include_colab_link": true
    },
    "kernelspec": {
      "name": "python3",
      "display_name": "Python 3"
    },
    "language_info": {
      "name": "python"
    }
  },
  "cells": [
    {
      "cell_type": "markdown",
      "metadata": {
        "id": "view-in-github",
        "colab_type": "text"
      },
      "source": [
        "<a href=\"https://colab.research.google.com/github/tahaabdelkrimdouik/pfe-back/blob/main/tp1.ipynb\" target=\"_parent\"><img src=\"https://colab.research.google.com/assets/colab-badge.svg\" alt=\"Open In Colab\"/></a>"
      ]
    },
    {
      "cell_type": "code",
      "execution_count": 4,
      "metadata": {
        "colab": {
          "base_uri": "https://localhost:8080/"
        },
        "id": "S84VJe3VRT_c",
        "outputId": "f77de821-ed35-4e2f-c477-6ae3b3a23d4f"
      },
      "outputs": [
        {
          "output_type": "stream",
          "name": "stdout",
          "text": [
            "Mounted at /content/drive\n"
          ]
        }
      ],
      "source": [
        "import os\n",
        "from google.colab import drive\n",
        "drive.mount('/content/drive', force_remount = True)\n",
        "os.chdir('drive/MyDrive/dataset') # main folder of Google Drive account"
      ]
    },
    {
      "cell_type": "code",
      "source": [
        "import pandas as pd\n",
        "import numpy as np\n",
        "import matplotlib.pyplot as plt\n",
        "import seaborn as sns\n",
        "%matplotlib inline"
      ],
      "metadata": {
        "id": "hfGhZEomSy3u"
      },
      "execution_count": 5,
      "outputs": []
    },
    {
      "cell_type": "code",
      "source": [
        "df = pd.read_csv(\"chronic_kidney_disease.csv\")"
      ],
      "metadata": {
        "id": "emmOW6h_THpe"
      },
      "execution_count": 6,
      "outputs": []
    },
    {
      "cell_type": "code",
      "source": [
        "print(df.head())"
      ],
      "metadata": {
        "colab": {
          "base_uri": "https://localhost:8080/"
        },
        "id": "1_fgy5zZTU4U",
        "outputId": "261bf776-dda4-48b5-ddf9-432f18e29edd"
      },
      "execution_count": 7,
      "outputs": [
        {
          "output_type": "stream",
          "name": "stdout",
          "text": [
            "    age    bp     sg   al   su     rbc        pc         pcc          ba  \\\n",
            "0  48.0  80.0  1.020  1.0  0.0     NaN    normal  notpresent  notpresent   \n",
            "1   7.0  50.0  1.020  4.0  0.0     NaN    normal  notpresent  notpresent   \n",
            "2  62.0  80.0  1.010  2.0  3.0  normal    normal  notpresent  notpresent   \n",
            "3  48.0  70.0  1.005  4.0  0.0  normal  abnormal     present  notpresent   \n",
            "4  51.0  80.0  1.010  2.0  0.0  normal    normal  notpresent  notpresent   \n",
            "\n",
            "     bgr  ...  pcv  wbcc  rbcc  htn   dm cad appet   pe  ane class  \n",
            "0  121.0  ...   44  7800   5.2  yes  yes  no  good   no   no   ckd  \n",
            "1    NaN  ...   38  6000   NaN   no   no  no  good   no   no   ckd  \n",
            "2  423.0  ...   31  7500   NaN   no  yes  no  poor   no  yes   ckd  \n",
            "3  117.0  ...   32  6700   3.9  yes   no  no  poor  yes  yes   ckd  \n",
            "4  106.0  ...   35  7300   4.6   no   no  no  good   no   no   ckd  \n",
            "\n",
            "[5 rows x 25 columns]\n"
          ]
        }
      ]
    },
    {
      "cell_type": "code",
      "source": [
        "print(df.info())\n",
        "print(df.describe())"
      ],
      "metadata": {
        "colab": {
          "base_uri": "https://localhost:8080/"
        },
        "id": "wx5EQszxThDt",
        "outputId": "0edc8b70-a14b-4e7d-ff2e-b9c164daf1d9"
      },
      "execution_count": 8,
      "outputs": [
        {
          "output_type": "stream",
          "name": "stdout",
          "text": [
            "<class 'pandas.core.frame.DataFrame'>\n",
            "RangeIndex: 400 entries, 0 to 399\n",
            "Data columns (total 25 columns):\n",
            " #   Column  Non-Null Count  Dtype  \n",
            "---  ------  --------------  -----  \n",
            " 0   age     391 non-null    float64\n",
            " 1   bp      388 non-null    float64\n",
            " 2   sg      353 non-null    float64\n",
            " 3   al      354 non-null    float64\n",
            " 4   su      351 non-null    float64\n",
            " 5   rbc     248 non-null    object \n",
            " 6   pc      335 non-null    object \n",
            " 7   pcc     396 non-null    object \n",
            " 8   ba      396 non-null    object \n",
            " 9   bgr     356 non-null    float64\n",
            " 10  bu      381 non-null    float64\n",
            " 11  sc      383 non-null    float64\n",
            " 12  sod     313 non-null    float64\n",
            " 13  pot     312 non-null    float64\n",
            " 14  hemo    348 non-null    float64\n",
            " 15  pcv     330 non-null    object \n",
            " 16  wbcc    295 non-null    object \n",
            " 17  rbcc    270 non-null    object \n",
            " 18  htn     398 non-null    object \n",
            " 19  dm      398 non-null    object \n",
            " 20  cad     398 non-null    object \n",
            " 21  appet   399 non-null    object \n",
            " 22  pe      399 non-null    object \n",
            " 23  ane     399 non-null    object \n",
            " 24  class   400 non-null    object \n",
            "dtypes: float64(11), object(14)\n",
            "memory usage: 78.3+ KB\n",
            "None\n",
            "              age          bp          sg          al          su         bgr  \\\n",
            "count  391.000000  388.000000  353.000000  354.000000  351.000000  356.000000   \n",
            "mean    51.483376   76.469072    1.017408    1.016949    0.450142  148.036517   \n",
            "std     17.169714   13.683637    0.005717    1.352679    1.099191   79.281714   \n",
            "min      2.000000   50.000000    1.005000    0.000000    0.000000   22.000000   \n",
            "25%     42.000000   70.000000    1.010000    0.000000    0.000000   99.000000   \n",
            "50%     55.000000   80.000000    1.020000    0.000000    0.000000  121.000000   \n",
            "75%     64.500000   80.000000    1.020000    2.000000    0.000000  163.000000   \n",
            "max     90.000000  180.000000    1.025000    5.000000    5.000000  490.000000   \n",
            "\n",
            "               bu          sc         sod         pot        hemo  \n",
            "count  381.000000  383.000000  313.000000  312.000000  348.000000  \n",
            "mean    57.425722    3.072454  137.528754    4.627244   12.526437  \n",
            "std     50.503006    5.741126   10.408752    3.193904    2.912587  \n",
            "min      1.500000    0.400000    4.500000    2.500000    3.100000  \n",
            "25%     27.000000    0.900000  135.000000    3.800000   10.300000  \n",
            "50%     42.000000    1.300000  138.000000    4.400000   12.650000  \n",
            "75%     66.000000    2.800000  142.000000    4.900000   15.000000  \n",
            "max    391.000000   76.000000  163.000000   47.000000   17.800000  \n"
          ]
        }
      ]
    },
    {
      "cell_type": "code",
      "source": [],
      "metadata": {
        "id": "AuZPvw7MqJyZ"
      },
      "execution_count": null,
      "outputs": []
    },
    {
      "cell_type": "code",
      "source": [],
      "metadata": {
        "id": "XbwPia1fqK0Z"
      },
      "execution_count": null,
      "outputs": []
    },
    {
      "cell_type": "code",
      "source": [
        "X = df.drop(\"class\", axis=1)\n",
        "print(\"the df except the labels:\",X)"
      ],
      "metadata": {
        "colab": {
          "base_uri": "https://localhost:8080/"
        },
        "id": "7Wfuj8_XT42h",
        "outputId": "a761e480-6855-4e88-c381-56477e54e017"
      },
      "execution_count": 10,
      "outputs": [
        {
          "output_type": "stream",
          "name": "stdout",
          "text": [
            "the df except the labels:       age    bp     sg   al   su     rbc        pc         pcc          ba  \\\n",
            "0    48.0  80.0  1.020  1.0  0.0     NaN    normal  notpresent  notpresent   \n",
            "1     7.0  50.0  1.020  4.0  0.0     NaN    normal  notpresent  notpresent   \n",
            "2    62.0  80.0  1.010  2.0  3.0  normal    normal  notpresent  notpresent   \n",
            "3    48.0  70.0  1.005  4.0  0.0  normal  abnormal     present  notpresent   \n",
            "4    51.0  80.0  1.010  2.0  0.0  normal    normal  notpresent  notpresent   \n",
            "..    ...   ...    ...  ...  ...     ...       ...         ...         ...   \n",
            "395  55.0  80.0  1.020  0.0  0.0  normal    normal  notpresent  notpresent   \n",
            "396  42.0  70.0  1.025  0.0  0.0  normal    normal  notpresent  notpresent   \n",
            "397  12.0  80.0  1.020  0.0  0.0  normal    normal  notpresent  notpresent   \n",
            "398  17.0  60.0  1.025  0.0  0.0  normal    normal  notpresent  notpresent   \n",
            "399  58.0  80.0  1.025  0.0  0.0  normal    normal  notpresent  notpresent   \n",
            "\n",
            "       bgr  ...  hemo  pcv  wbcc  rbcc  htn   dm cad appet   pe  ane  \n",
            "0    121.0  ...  15.4   44  7800   5.2  yes  yes  no  good   no   no  \n",
            "1      NaN  ...  11.3   38  6000   NaN   no   no  no  good   no   no  \n",
            "2    423.0  ...   9.6   31  7500   NaN   no  yes  no  poor   no  yes  \n",
            "3    117.0  ...  11.2   32  6700   3.9  yes   no  no  poor  yes  yes  \n",
            "4    106.0  ...  11.6   35  7300   4.6   no   no  no  good   no   no  \n",
            "..     ...  ...   ...  ...   ...   ...  ...  ...  ..   ...  ...  ...  \n",
            "395  140.0  ...  15.7   47  6700   4.9   no   no  no  good   no   no  \n",
            "396   75.0  ...  16.5   54  7800   6.2   no   no  no  good   no   no  \n",
            "397  100.0  ...  15.8   49  6600   5.4   no   no  no  good   no   no  \n",
            "398  114.0  ...  14.2   51  7200   5.9   no   no  no  good   no   no  \n",
            "399  131.0  ...  15.8   53  6800   6.1   no   no  no  good   no   no  \n",
            "\n",
            "[400 rows x 24 columns]\n"
          ]
        }
      ]
    },
    {
      "cell_type": "code",
      "source": [
        "numerical_df = df.select_dtypes(include=['int64', 'float64'])\n",
        "\n",
        "nominal_df = df.select_dtypes(include=['object', 'category'])\n",
        "\n",
        "print(\"Numerical columns:\", numerical_df.columns.tolist())\n",
        "print(\"Nominal columns:\", nominal_df.columns.tolist())\n"
      ],
      "metadata": {
        "colab": {
          "base_uri": "https://localhost:8080/"
        },
        "id": "4-SVzv01V3LQ",
        "outputId": "e5c47137-47ca-4264-e80e-35c42cab75c7"
      },
      "execution_count": 12,
      "outputs": [
        {
          "output_type": "stream",
          "name": "stdout",
          "text": [
            "Numerical columns: ['age', 'bp', 'sg', 'al', 'su', 'bgr', 'bu', 'sc', 'sod', 'pot', 'hemo']\n",
            "Nominal columns: ['rbc', 'pc', 'pcc', 'ba', 'pcv', 'wbcc', 'rbcc', 'htn', 'dm', 'cad', 'appet', 'pe', 'ane', 'class']\n"
          ]
        }
      ]
    },
    {
      "cell_type": "code",
      "source": [
        "num_cols = df.select_dtypes(include=['int64', 'float64']).columns\n",
        "df[num_cols] = df[num_cols].fillna(df[num_cols].median())\n",
        "print(df[num_cols].isnull().sum())"
      ],
      "metadata": {
        "colab": {
          "base_uri": "https://localhost:8080/"
        },
        "id": "cvkdjotob0Wo",
        "outputId": "f1728487-3a37-44da-9365-edaa136e9163"
      },
      "execution_count": 13,
      "outputs": [
        {
          "output_type": "stream",
          "name": "stdout",
          "text": [
            "age     0\n",
            "bp      0\n",
            "sg      0\n",
            "al      0\n",
            "su      0\n",
            "bgr     0\n",
            "bu      0\n",
            "sc      0\n",
            "sod     0\n",
            "pot     0\n",
            "hemo    0\n",
            "dtype: int64\n"
          ]
        }
      ]
    },
    {
      "cell_type": "code",
      "source": [
        "from sklearn.impute import SimpleImputer\n",
        "imputer = SimpleImputer(strategy='median')\n",
        "numerical_df = imputer.fit_transform(numerical_df)"
      ],
      "metadata": {
        "id": "Ggn_gAr_d_Rj"
      },
      "execution_count": 15,
      "outputs": []
    },
    {
      "cell_type": "code",
      "source": [
        "print(numerical_df)"
      ],
      "metadata": {
        "colab": {
          "base_uri": "https://localhost:8080/"
        },
        "id": "vAmW_GWtfZFd",
        "outputId": "a2492ed1-2bf1-4d01-8f84-3c8916b1e251"
      },
      "execution_count": 16,
      "outputs": [
        {
          "output_type": "stream",
          "name": "stdout",
          "text": [
            "[[ 48.     80.      1.02  ... 138.      4.4    15.4  ]\n",
            " [  7.     50.      1.02  ... 138.      4.4    11.3  ]\n",
            " [ 62.     80.      1.01  ... 138.      4.4     9.6  ]\n",
            " ...\n",
            " [ 12.     80.      1.02  ... 137.      4.4    15.8  ]\n",
            " [ 17.     60.      1.025 ... 135.      4.9    14.2  ]\n",
            " [ 58.     80.      1.025 ... 141.      3.5    15.8  ]]\n"
          ]
        }
      ]
    },
    {
      "cell_type": "code",
      "source": [
        "print(df.info())"
      ],
      "metadata": {
        "colab": {
          "base_uri": "https://localhost:8080/"
        },
        "id": "ywxJIjaFfq9A",
        "outputId": "f0cae635-6d5e-416e-8b93-3dd6affe341f"
      },
      "execution_count": 19,
      "outputs": [
        {
          "output_type": "stream",
          "name": "stdout",
          "text": [
            "<class 'pandas.core.frame.DataFrame'>\n",
            "RangeIndex: 400 entries, 0 to 399\n",
            "Data columns (total 25 columns):\n",
            " #   Column  Non-Null Count  Dtype  \n",
            "---  ------  --------------  -----  \n",
            " 0   age     400 non-null    float64\n",
            " 1   bp      400 non-null    float64\n",
            " 2   sg      400 non-null    float64\n",
            " 3   al      400 non-null    float64\n",
            " 4   su      400 non-null    float64\n",
            " 5   rbc     248 non-null    object \n",
            " 6   pc      335 non-null    object \n",
            " 7   pcc     396 non-null    object \n",
            " 8   ba      396 non-null    object \n",
            " 9   bgr     400 non-null    float64\n",
            " 10  bu      400 non-null    float64\n",
            " 11  sc      400 non-null    float64\n",
            " 12  sod     400 non-null    float64\n",
            " 13  pot     400 non-null    float64\n",
            " 14  hemo    400 non-null    float64\n",
            " 15  pcv     330 non-null    object \n",
            " 16  wbcc    295 non-null    object \n",
            " 17  rbcc    270 non-null    object \n",
            " 18  htn     398 non-null    object \n",
            " 19  dm      398 non-null    object \n",
            " 20  cad     398 non-null    object \n",
            " 21  appet   399 non-null    object \n",
            " 22  pe      399 non-null    object \n",
            " 23  ane     399 non-null    object \n",
            " 24  class   400 non-null    object \n",
            "dtypes: float64(11), object(14)\n",
            "memory usage: 78.3+ KB\n",
            "None\n"
          ]
        }
      ]
    },
    {
      "cell_type": "code",
      "source": [
        "for col in nominal_df.columns:\n",
        "    nominal_df[col + '_Code'], uniques = pd.factorize(nominal_df[col])\n",
        "print(nominal_df.head())"
      ],
      "metadata": {
        "colab": {
          "base_uri": "https://localhost:8080/"
        },
        "id": "fMpWniHOhpFx",
        "outputId": "11f1f4d7-71c8-4b0a-c54b-4b2e043a967c"
      },
      "execution_count": 24,
      "outputs": [
        {
          "output_type": "stream",
          "name": "stdout",
          "text": [
            "      rbc        pc         pcc          ba pcv  wbcc rbcc  htn   dm cad  ...  \\\n",
            "0     NaN    normal  notpresent  notpresent  44  7800  5.2  yes  yes  no  ...   \n",
            "1     NaN    normal  notpresent  notpresent  38  6000  NaN   no   no  no  ...   \n",
            "2  normal    normal  notpresent  notpresent  31  7500  NaN   no  yes  no  ...   \n",
            "3  normal  abnormal     present  notpresent  32  6700  3.9  yes   no  no  ...   \n",
            "4  normal    normal  notpresent  notpresent  35  7300  4.6   no   no  no  ...   \n",
            "\n",
            "  pcv_Code wbcc_Code rbcc_Code htn_Code  dm_Code  cad_Code  appet_Code  \\\n",
            "0        0         0         0        0        0         0           0   \n",
            "1        1         1        -1        1        1         0           0   \n",
            "2        2         2        -1        1        0         0           1   \n",
            "3        3         3         1        0        1         0           1   \n",
            "4        4         4         2        1        1         0           0   \n",
            "\n",
            "   pe_Code  ane_Code  class_Code  \n",
            "0        0         0           0  \n",
            "1        0         0           0  \n",
            "2        0         1           0  \n",
            "3        1         1           0  \n",
            "4        0         0           0  \n",
            "\n",
            "[5 rows x 28 columns]\n"
          ]
        }
      ]
    },
    {
      "cell_type": "code",
      "source": [
        "for col in nominal_df.columns:\n",
        "    nominal_df[col].fillna(nominal_df[col].mode()[0], inplace=True)\n",
        "\n",
        "print(nominal_df)"
      ],
      "metadata": {
        "colab": {
          "base_uri": "https://localhost:8080/"
        },
        "id": "4AWfrH0fqMO8",
        "outputId": "443cba88-643c-4846-9750-dcdebb12b596"
      },
      "execution_count": 25,
      "outputs": [
        {
          "output_type": "stream",
          "name": "stdout",
          "text": [
            "        rbc        pc         pcc          ba pcv  wbcc rbcc  htn   dm cad  \\\n",
            "0    normal    normal  notpresent  notpresent  44  7800  5.2  yes  yes  no   \n",
            "1    normal    normal  notpresent  notpresent  38  6000  5.2   no   no  no   \n",
            "2    normal    normal  notpresent  notpresent  31  7500  5.2   no  yes  no   \n",
            "3    normal  abnormal     present  notpresent  32  6700  3.9  yes   no  no   \n",
            "4    normal    normal  notpresent  notpresent  35  7300  4.6   no   no  no   \n",
            "..      ...       ...         ...         ...  ..   ...  ...  ...  ...  ..   \n",
            "395  normal    normal  notpresent  notpresent  47  6700  4.9   no   no  no   \n",
            "396  normal    normal  notpresent  notpresent  54  7800  6.2   no   no  no   \n",
            "397  normal    normal  notpresent  notpresent  49  6600  5.4   no   no  no   \n",
            "398  normal    normal  notpresent  notpresent  51  7200  5.9   no   no  no   \n",
            "399  normal    normal  notpresent  notpresent  53  6800  6.1   no   no  no   \n",
            "\n",
            "     ... pcv_Code wbcc_Code rbcc_Code htn_Code  dm_Code  cad_Code  appet_Code  \\\n",
            "0    ...        0         0         0        0        0         0           0   \n",
            "1    ...        1         1        -1        1        1         0           0   \n",
            "2    ...        2         2        -1        1        0         0           1   \n",
            "3    ...        3         3         1        0        1         0           1   \n",
            "4    ...        4         4         2        1        1         0           0   \n",
            "..   ...      ...       ...       ...      ...      ...       ...         ...   \n",
            "395  ...       36         3        15        1        1         0           0   \n",
            "396  ...       42         0        36        1        1         0           0   \n",
            "397  ...       38        89        34        1        1         0           0   \n",
            "398  ...       41        29        44        1        1         0           0   \n",
            "399  ...       40        46        35        1        1         0           0   \n",
            "\n",
            "     pe_Code  ane_Code  class_Code  \n",
            "0          0         0           0  \n",
            "1          0         0           0  \n",
            "2          0         1           0  \n",
            "3          1         1           0  \n",
            "4          0         0           0  \n",
            "..       ...       ...         ...  \n",
            "395        0         0           1  \n",
            "396        0         0           1  \n",
            "397        0         0           1  \n",
            "398        0         0           1  \n",
            "399        0         0           1  \n",
            "\n",
            "[400 rows x 28 columns]\n"
          ]
        },
        {
          "output_type": "stream",
          "name": "stderr",
          "text": [
            "/tmp/ipython-input-3163279708.py:2: FutureWarning: A value is trying to be set on a copy of a DataFrame or Series through chained assignment using an inplace method.\n",
            "The behavior will change in pandas 3.0. This inplace method will never work because the intermediate object on which we are setting values always behaves as a copy.\n",
            "\n",
            "For example, when doing 'df[col].method(value, inplace=True)', try using 'df.method({col: value}, inplace=True)' or df[col] = df[col].method(value) instead, to perform the operation inplace on the original object.\n",
            "\n",
            "\n",
            "  nominal_df[col].fillna(nominal_df[col].mode()[0], inplace=True)\n",
            "/tmp/ipython-input-3163279708.py:2: FutureWarning: A value is trying to be set on a copy of a DataFrame or Series through chained assignment using an inplace method.\n",
            "The behavior will change in pandas 3.0. This inplace method will never work because the intermediate object on which we are setting values always behaves as a copy.\n",
            "\n",
            "For example, when doing 'df[col].method(value, inplace=True)', try using 'df.method({col: value}, inplace=True)' or df[col] = df[col].method(value) instead, to perform the operation inplace on the original object.\n",
            "\n",
            "\n",
            "  nominal_df[col].fillna(nominal_df[col].mode()[0], inplace=True)\n",
            "/tmp/ipython-input-3163279708.py:2: FutureWarning: A value is trying to be set on a copy of a DataFrame or Series through chained assignment using an inplace method.\n",
            "The behavior will change in pandas 3.0. This inplace method will never work because the intermediate object on which we are setting values always behaves as a copy.\n",
            "\n",
            "For example, when doing 'df[col].method(value, inplace=True)', try using 'df.method({col: value}, inplace=True)' or df[col] = df[col].method(value) instead, to perform the operation inplace on the original object.\n",
            "\n",
            "\n",
            "  nominal_df[col].fillna(nominal_df[col].mode()[0], inplace=True)\n",
            "/tmp/ipython-input-3163279708.py:2: FutureWarning: A value is trying to be set on a copy of a DataFrame or Series through chained assignment using an inplace method.\n",
            "The behavior will change in pandas 3.0. This inplace method will never work because the intermediate object on which we are setting values always behaves as a copy.\n",
            "\n",
            "For example, when doing 'df[col].method(value, inplace=True)', try using 'df.method({col: value}, inplace=True)' or df[col] = df[col].method(value) instead, to perform the operation inplace on the original object.\n",
            "\n",
            "\n",
            "  nominal_df[col].fillna(nominal_df[col].mode()[0], inplace=True)\n",
            "/tmp/ipython-input-3163279708.py:2: FutureWarning: A value is trying to be set on a copy of a DataFrame or Series through chained assignment using an inplace method.\n",
            "The behavior will change in pandas 3.0. This inplace method will never work because the intermediate object on which we are setting values always behaves as a copy.\n",
            "\n",
            "For example, when doing 'df[col].method(value, inplace=True)', try using 'df.method({col: value}, inplace=True)' or df[col] = df[col].method(value) instead, to perform the operation inplace on the original object.\n",
            "\n",
            "\n",
            "  nominal_df[col].fillna(nominal_df[col].mode()[0], inplace=True)\n",
            "/tmp/ipython-input-3163279708.py:2: FutureWarning: A value is trying to be set on a copy of a DataFrame or Series through chained assignment using an inplace method.\n",
            "The behavior will change in pandas 3.0. This inplace method will never work because the intermediate object on which we are setting values always behaves as a copy.\n",
            "\n",
            "For example, when doing 'df[col].method(value, inplace=True)', try using 'df.method({col: value}, inplace=True)' or df[col] = df[col].method(value) instead, to perform the operation inplace on the original object.\n",
            "\n",
            "\n",
            "  nominal_df[col].fillna(nominal_df[col].mode()[0], inplace=True)\n",
            "/tmp/ipython-input-3163279708.py:2: FutureWarning: A value is trying to be set on a copy of a DataFrame or Series through chained assignment using an inplace method.\n",
            "The behavior will change in pandas 3.0. This inplace method will never work because the intermediate object on which we are setting values always behaves as a copy.\n",
            "\n",
            "For example, when doing 'df[col].method(value, inplace=True)', try using 'df.method({col: value}, inplace=True)' or df[col] = df[col].method(value) instead, to perform the operation inplace on the original object.\n",
            "\n",
            "\n",
            "  nominal_df[col].fillna(nominal_df[col].mode()[0], inplace=True)\n",
            "/tmp/ipython-input-3163279708.py:2: FutureWarning: A value is trying to be set on a copy of a DataFrame or Series through chained assignment using an inplace method.\n",
            "The behavior will change in pandas 3.0. This inplace method will never work because the intermediate object on which we are setting values always behaves as a copy.\n",
            "\n",
            "For example, when doing 'df[col].method(value, inplace=True)', try using 'df.method({col: value}, inplace=True)' or df[col] = df[col].method(value) instead, to perform the operation inplace on the original object.\n",
            "\n",
            "\n",
            "  nominal_df[col].fillna(nominal_df[col].mode()[0], inplace=True)\n",
            "/tmp/ipython-input-3163279708.py:2: FutureWarning: A value is trying to be set on a copy of a DataFrame or Series through chained assignment using an inplace method.\n",
            "The behavior will change in pandas 3.0. This inplace method will never work because the intermediate object on which we are setting values always behaves as a copy.\n",
            "\n",
            "For example, when doing 'df[col].method(value, inplace=True)', try using 'df.method({col: value}, inplace=True)' or df[col] = df[col].method(value) instead, to perform the operation inplace on the original object.\n",
            "\n",
            "\n",
            "  nominal_df[col].fillna(nominal_df[col].mode()[0], inplace=True)\n",
            "/tmp/ipython-input-3163279708.py:2: FutureWarning: A value is trying to be set on a copy of a DataFrame or Series through chained assignment using an inplace method.\n",
            "The behavior will change in pandas 3.0. This inplace method will never work because the intermediate object on which we are setting values always behaves as a copy.\n",
            "\n",
            "For example, when doing 'df[col].method(value, inplace=True)', try using 'df.method({col: value}, inplace=True)' or df[col] = df[col].method(value) instead, to perform the operation inplace on the original object.\n",
            "\n",
            "\n",
            "  nominal_df[col].fillna(nominal_df[col].mode()[0], inplace=True)\n",
            "/tmp/ipython-input-3163279708.py:2: FutureWarning: A value is trying to be set on a copy of a DataFrame or Series through chained assignment using an inplace method.\n",
            "The behavior will change in pandas 3.0. This inplace method will never work because the intermediate object on which we are setting values always behaves as a copy.\n",
            "\n",
            "For example, when doing 'df[col].method(value, inplace=True)', try using 'df.method({col: value}, inplace=True)' or df[col] = df[col].method(value) instead, to perform the operation inplace on the original object.\n",
            "\n",
            "\n",
            "  nominal_df[col].fillna(nominal_df[col].mode()[0], inplace=True)\n",
            "/tmp/ipython-input-3163279708.py:2: FutureWarning: A value is trying to be set on a copy of a DataFrame or Series through chained assignment using an inplace method.\n",
            "The behavior will change in pandas 3.0. This inplace method will never work because the intermediate object on which we are setting values always behaves as a copy.\n",
            "\n",
            "For example, when doing 'df[col].method(value, inplace=True)', try using 'df.method({col: value}, inplace=True)' or df[col] = df[col].method(value) instead, to perform the operation inplace on the original object.\n",
            "\n",
            "\n",
            "  nominal_df[col].fillna(nominal_df[col].mode()[0], inplace=True)\n",
            "/tmp/ipython-input-3163279708.py:2: FutureWarning: A value is trying to be set on a copy of a DataFrame or Series through chained assignment using an inplace method.\n",
            "The behavior will change in pandas 3.0. This inplace method will never work because the intermediate object on which we are setting values always behaves as a copy.\n",
            "\n",
            "For example, when doing 'df[col].method(value, inplace=True)', try using 'df.method({col: value}, inplace=True)' or df[col] = df[col].method(value) instead, to perform the operation inplace on the original object.\n",
            "\n",
            "\n",
            "  nominal_df[col].fillna(nominal_df[col].mode()[0], inplace=True)\n",
            "/tmp/ipython-input-3163279708.py:2: FutureWarning: A value is trying to be set on a copy of a DataFrame or Series through chained assignment using an inplace method.\n",
            "The behavior will change in pandas 3.0. This inplace method will never work because the intermediate object on which we are setting values always behaves as a copy.\n",
            "\n",
            "For example, when doing 'df[col].method(value, inplace=True)', try using 'df.method({col: value}, inplace=True)' or df[col] = df[col].method(value) instead, to perform the operation inplace on the original object.\n",
            "\n",
            "\n",
            "  nominal_df[col].fillna(nominal_df[col].mode()[0], inplace=True)\n",
            "/tmp/ipython-input-3163279708.py:2: FutureWarning: A value is trying to be set on a copy of a DataFrame or Series through chained assignment using an inplace method.\n",
            "The behavior will change in pandas 3.0. This inplace method will never work because the intermediate object on which we are setting values always behaves as a copy.\n",
            "\n",
            "For example, when doing 'df[col].method(value, inplace=True)', try using 'df.method({col: value}, inplace=True)' or df[col] = df[col].method(value) instead, to perform the operation inplace on the original object.\n",
            "\n",
            "\n",
            "  nominal_df[col].fillna(nominal_df[col].mode()[0], inplace=True)\n"
          ]
        }
      ]
    },
    {
      "cell_type": "code",
      "source": [
        "imputer = SimpleImputer(strategy='most_frequent')\n",
        "imputer.fit(nominal_df)\n",
        "\n",
        "nominal_df[:] = imputer.transform(nominal_df)\n",
        "\n",
        "print(nominal_df)"
      ],
      "metadata": {
        "colab": {
          "base_uri": "https://localhost:8080/"
        },
        "id": "UR3H0qM1qm-9",
        "outputId": "7740a756-56d0-46d3-8c25-3b4d3cebf5a7"
      },
      "execution_count": 26,
      "outputs": [
        {
          "output_type": "stream",
          "name": "stdout",
          "text": [
            "        rbc        pc         pcc          ba pcv  wbcc rbcc  htn   dm cad  \\\n",
            "0    normal    normal  notpresent  notpresent  44  7800  5.2  yes  yes  no   \n",
            "1    normal    normal  notpresent  notpresent  38  6000  5.2   no   no  no   \n",
            "2    normal    normal  notpresent  notpresent  31  7500  5.2   no  yes  no   \n",
            "3    normal  abnormal     present  notpresent  32  6700  3.9  yes   no  no   \n",
            "4    normal    normal  notpresent  notpresent  35  7300  4.6   no   no  no   \n",
            "..      ...       ...         ...         ...  ..   ...  ...  ...  ...  ..   \n",
            "395  normal    normal  notpresent  notpresent  47  6700  4.9   no   no  no   \n",
            "396  normal    normal  notpresent  notpresent  54  7800  6.2   no   no  no   \n",
            "397  normal    normal  notpresent  notpresent  49  6600  5.4   no   no  no   \n",
            "398  normal    normal  notpresent  notpresent  51  7200  5.9   no   no  no   \n",
            "399  normal    normal  notpresent  notpresent  53  6800  6.1   no   no  no   \n",
            "\n",
            "     ... pcv_Code wbcc_Code rbcc_Code htn_Code  dm_Code  cad_Code  appet_Code  \\\n",
            "0    ...        0         0         0        0        0         0           0   \n",
            "1    ...        1         1        -1        1        1         0           0   \n",
            "2    ...        2         2        -1        1        0         0           1   \n",
            "3    ...        3         3         1        0        1         0           1   \n",
            "4    ...        4         4         2        1        1         0           0   \n",
            "..   ...      ...       ...       ...      ...      ...       ...         ...   \n",
            "395  ...       36         3        15        1        1         0           0   \n",
            "396  ...       42         0        36        1        1         0           0   \n",
            "397  ...       38        89        34        1        1         0           0   \n",
            "398  ...       41        29        44        1        1         0           0   \n",
            "399  ...       40        46        35        1        1         0           0   \n",
            "\n",
            "     pe_Code  ane_Code  class_Code  \n",
            "0          0         0           0  \n",
            "1          0         0           0  \n",
            "2          0         1           0  \n",
            "3          1         1           0  \n",
            "4          0         0           0  \n",
            "..       ...       ...         ...  \n",
            "395        0         0           1  \n",
            "396        0         0           1  \n",
            "397        0         0           1  \n",
            "398        0         0           1  \n",
            "399        0         0           1  \n",
            "\n",
            "[400 rows x 28 columns]\n"
          ]
        }
      ]
    },
    {
      "cell_type": "code",
      "source": [
        "preprocessed_df = pd.concat([numerical_df, nominal_df], axis=1)\n",
        "\n",
        "print(preprocessed_df)"
      ],
      "metadata": {
        "colab": {
          "base_uri": "https://localhost:8080/",
          "height": 321
        },
        "id": "_ZQXahMxrowm",
        "outputId": "8887d58e-9a13-4ad5-e3c9-89abe41c7ca5"
      },
      "execution_count": 27,
      "outputs": [
        {
          "output_type": "error",
          "ename": "TypeError",
          "evalue": "cannot concatenate object of type '<class 'numpy.ndarray'>'; only Series and DataFrame objs are valid",
          "traceback": [
            "\u001b[0;31m---------------------------------------------------------------------------\u001b[0m",
            "\u001b[0;31mTypeError\u001b[0m                                 Traceback (most recent call last)",
            "\u001b[0;32m/tmp/ipython-input-1005864518.py\u001b[0m in \u001b[0;36m<cell line: 0>\u001b[0;34m()\u001b[0m\n\u001b[0;32m----> 1\u001b[0;31m \u001b[0mpreprocessed_df\u001b[0m \u001b[0;34m=\u001b[0m \u001b[0mpd\u001b[0m\u001b[0;34m.\u001b[0m\u001b[0mconcat\u001b[0m\u001b[0;34m(\u001b[0m\u001b[0;34m[\u001b[0m\u001b[0mnumerical_df\u001b[0m\u001b[0;34m,\u001b[0m \u001b[0mnominal_df\u001b[0m\u001b[0;34m]\u001b[0m\u001b[0;34m,\u001b[0m \u001b[0maxis\u001b[0m\u001b[0;34m=\u001b[0m\u001b[0;36m1\u001b[0m\u001b[0;34m)\u001b[0m\u001b[0;34m\u001b[0m\u001b[0;34m\u001b[0m\u001b[0m\n\u001b[0m\u001b[1;32m      2\u001b[0m \u001b[0;34m\u001b[0m\u001b[0m\n\u001b[1;32m      3\u001b[0m \u001b[0mprint\u001b[0m\u001b[0;34m(\u001b[0m\u001b[0mpreprocessed_df\u001b[0m\u001b[0;34m)\u001b[0m\u001b[0;34m\u001b[0m\u001b[0;34m\u001b[0m\u001b[0m\n",
            "\u001b[0;32m/usr/local/lib/python3.12/dist-packages/pandas/core/reshape/concat.py\u001b[0m in \u001b[0;36mconcat\u001b[0;34m(objs, axis, join, ignore_index, keys, levels, names, verify_integrity, sort, copy)\u001b[0m\n\u001b[1;32m    380\u001b[0m         \u001b[0mcopy\u001b[0m \u001b[0;34m=\u001b[0m \u001b[0;32mFalse\u001b[0m\u001b[0;34m\u001b[0m\u001b[0;34m\u001b[0m\u001b[0m\n\u001b[1;32m    381\u001b[0m \u001b[0;34m\u001b[0m\u001b[0m\n\u001b[0;32m--> 382\u001b[0;31m     op = _Concatenator(\n\u001b[0m\u001b[1;32m    383\u001b[0m         \u001b[0mobjs\u001b[0m\u001b[0;34m,\u001b[0m\u001b[0;34m\u001b[0m\u001b[0;34m\u001b[0m\u001b[0m\n\u001b[1;32m    384\u001b[0m         \u001b[0maxis\u001b[0m\u001b[0;34m=\u001b[0m\u001b[0maxis\u001b[0m\u001b[0;34m,\u001b[0m\u001b[0;34m\u001b[0m\u001b[0;34m\u001b[0m\u001b[0m\n",
            "\u001b[0;32m/usr/local/lib/python3.12/dist-packages/pandas/core/reshape/concat.py\u001b[0m in \u001b[0;36m__init__\u001b[0;34m(self, objs, axis, join, keys, levels, names, ignore_index, verify_integrity, copy, sort)\u001b[0m\n\u001b[1;32m    446\u001b[0m \u001b[0;34m\u001b[0m\u001b[0m\n\u001b[1;32m    447\u001b[0m         \u001b[0;31m# figure out what our result ndim is going to be\u001b[0m\u001b[0;34m\u001b[0m\u001b[0;34m\u001b[0m\u001b[0m\n\u001b[0;32m--> 448\u001b[0;31m         \u001b[0mndims\u001b[0m \u001b[0;34m=\u001b[0m \u001b[0mself\u001b[0m\u001b[0;34m.\u001b[0m\u001b[0m_get_ndims\u001b[0m\u001b[0;34m(\u001b[0m\u001b[0mobjs\u001b[0m\u001b[0;34m)\u001b[0m\u001b[0;34m\u001b[0m\u001b[0;34m\u001b[0m\u001b[0m\n\u001b[0m\u001b[1;32m    449\u001b[0m         \u001b[0msample\u001b[0m\u001b[0;34m,\u001b[0m \u001b[0mobjs\u001b[0m \u001b[0;34m=\u001b[0m \u001b[0mself\u001b[0m\u001b[0;34m.\u001b[0m\u001b[0m_get_sample_object\u001b[0m\u001b[0;34m(\u001b[0m\u001b[0mobjs\u001b[0m\u001b[0;34m,\u001b[0m \u001b[0mndims\u001b[0m\u001b[0;34m,\u001b[0m \u001b[0mkeys\u001b[0m\u001b[0;34m,\u001b[0m \u001b[0mnames\u001b[0m\u001b[0;34m,\u001b[0m \u001b[0mlevels\u001b[0m\u001b[0;34m)\u001b[0m\u001b[0;34m\u001b[0m\u001b[0;34m\u001b[0m\u001b[0m\n\u001b[1;32m    450\u001b[0m \u001b[0;34m\u001b[0m\u001b[0m\n",
            "\u001b[0;32m/usr/local/lib/python3.12/dist-packages/pandas/core/reshape/concat.py\u001b[0m in \u001b[0;36m_get_ndims\u001b[0;34m(self, objs)\u001b[0m\n\u001b[1;32m    487\u001b[0m                     \u001b[0;34m\"only Series and DataFrame objs are valid\"\u001b[0m\u001b[0;34m\u001b[0m\u001b[0;34m\u001b[0m\u001b[0m\n\u001b[1;32m    488\u001b[0m                 )\n\u001b[0;32m--> 489\u001b[0;31m                 \u001b[0;32mraise\u001b[0m \u001b[0mTypeError\u001b[0m\u001b[0;34m(\u001b[0m\u001b[0mmsg\u001b[0m\u001b[0;34m)\u001b[0m\u001b[0;34m\u001b[0m\u001b[0;34m\u001b[0m\u001b[0m\n\u001b[0m\u001b[1;32m    490\u001b[0m \u001b[0;34m\u001b[0m\u001b[0m\n\u001b[1;32m    491\u001b[0m             \u001b[0mndims\u001b[0m\u001b[0;34m.\u001b[0m\u001b[0madd\u001b[0m\u001b[0;34m(\u001b[0m\u001b[0mobj\u001b[0m\u001b[0;34m.\u001b[0m\u001b[0mndim\u001b[0m\u001b[0;34m)\u001b[0m\u001b[0;34m\u001b[0m\u001b[0;34m\u001b[0m\u001b[0m\n",
            "\u001b[0;31mTypeError\u001b[0m: cannot concatenate object of type '<class 'numpy.ndarray'>'; only Series and DataFrame objs are valid"
          ]
        }
      ]
    }
  ]
}